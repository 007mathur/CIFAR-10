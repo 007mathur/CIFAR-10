{
 "cells": [
  {
   "cell_type": "markdown",
   "metadata": {},
   "source": [
    "# CIFAR-10 using Neural Networks"
   ]
  },
  {
   "cell_type": "markdown",
   "metadata": {},
   "source": [
    "## Importing Libraries and Packages"
   ]
  },
  {
   "cell_type": "code",
   "execution_count": 1,
   "metadata": {},
   "outputs": [],
   "source": [
    "import numpy as np\n",
    "import pandas as pd\n",
    "from tensorflow import keras\n",
    "from keras import Model , Input\n",
    "from keras.layers import Flatten , Dense , BatchNormalization \n",
    "from keras.datasets import cifar10\n",
    "from keras.utils.np_utils import to_categorical \n",
    "from keras.models import Sequential\n",
    "from keras.optimizers import Adam"
   ]
  },
  {
   "cell_type": "markdown",
   "metadata": {},
   "source": [
    "## Importing Data and Processing Data \n",
    "The data is downloaded and imported from keras itself."
   ]
  },
  {
   "cell_type": "code",
   "execution_count": 2,
   "metadata": {},
   "outputs": [],
   "source": [
    "(x_train, y_train), (x_test, y_test) = cifar10.load_data()"
   ]
  },
  {
   "cell_type": "markdown",
   "metadata": {},
   "source": [
    "Before moving on let's normalize the imgae data so that it is between 0 and 1. "
   ]
  },
  {
   "cell_type": "code",
   "execution_count": 3,
   "metadata": {},
   "outputs": [],
   "source": [
    "x_train = x_train / 255.0\n",
    "x_test = x_test / 255.0"
   ]
  },
  {
   "cell_type": "code",
   "execution_count": 4,
   "metadata": {},
   "outputs": [
    {
     "output_type": "execute_result",
     "data": {
      "text/plain": [
       "((50000, 32, 32, 3), (50000, 1))"
      ]
     },
     "metadata": {},
     "execution_count": 4
    }
   ],
   "source": [
    "x_train.shape, y_train.shape"
   ]
  },
  {
   "cell_type": "markdown",
   "metadata": {},
   "source": [
    "As the labels are intergers let's convert them into array for simpler processing."
   ]
  },
  {
   "cell_type": "code",
   "execution_count": 5,
   "metadata": {},
   "outputs": [],
   "source": [
    "y_train = to_categorical(y_train, num_classes = 10)\n",
    "y_test = to_categorical(y_test, num_classes = 10)"
   ]
  },
  {
   "cell_type": "markdown",
   "metadata": {},
   "source": [
    "## Building and training model"
   ]
  },
  {
   "cell_type": "code",
   "execution_count": 6,
   "metadata": {},
   "outputs": [],
   "source": [
    "def neural_net(input_shape = (32,32,3), classes = 10) :\n",
    "    X_input = Input(input_shape)\n",
    "        \n",
    "    X = Flatten()(X_input)\n",
    "    X = Dense(784, activation = 'relu')(X)\n",
    "    X = BatchNormalization()(X)\n",
    "    X = Dense(100, activation = 'relu')(X)\n",
    "    X = BatchNormalization()(X)\n",
    "    X_output = Dense(10, activation = 'softmax')(X)\n",
    "    \n",
    "    model = Model(X_input, X_output)\n",
    "    \n",
    "    return model"
   ]
  },
  {
   "cell_type": "markdown",
   "metadata": {},
   "source": [
    "Let's name the model and see it's structure and other important architectural details."
   ]
  },
  {
   "cell_type": "code",
   "execution_count": 7,
   "metadata": {},
   "outputs": [
    {
     "output_type": "stream",
     "name": "stdout",
     "text": [
      "Model: \"functional_1\"\n_________________________________________________________________\nLayer (type)                 Output Shape              Param #   \n=================================================================\ninput_1 (InputLayer)         [(None, 32, 32, 3)]       0         \n_________________________________________________________________\nflatten (Flatten)            (None, 3072)              0         \n_________________________________________________________________\ndense (Dense)                (None, 784)               2409232   \n_________________________________________________________________\nbatch_normalization (BatchNo (None, 784)               3136      \n_________________________________________________________________\ndense_1 (Dense)              (None, 100)               78500     \n_________________________________________________________________\nbatch_normalization_1 (Batch (None, 100)               400       \n_________________________________________________________________\ndense_2 (Dense)              (None, 10)                1010      \n=================================================================\nTotal params: 2,492,278\nTrainable params: 2,490,510\nNon-trainable params: 1,768\n_________________________________________________________________\n"
     ]
    }
   ],
   "source": [
    "model = neural_net(input_shape = (32,32,3), classes = 10)\n",
    "model.summary()"
   ]
  },
  {
   "cell_type": "markdown",
   "metadata": {},
   "source": [
    "This code below defines the important hyperparameters for training of model.<br>\n",
    "We're using learning rate decay for smoother and accurate training of model."
   ]
  },
  {
   "cell_type": "code",
   "execution_count": 8,
   "metadata": {},
   "outputs": [],
   "source": [
    "batch_size = 128\n",
    "epochs = 15\n",
    "lr_schedule = keras.optimizers.schedules.ExponentialDecay(\n",
    "    initial_learning_rate=0.01,\n",
    "    decay_steps=5000,\n",
    "    decay_rate=0.9)\n",
    "optimizer = keras.optimizers.Adam(learning_rate=lr_schedule)"
   ]
  },
  {
   "cell_type": "markdown",
   "metadata": {},
   "source": [
    "Compiling and fitting the model"
   ]
  },
  {
   "cell_type": "code",
   "execution_count": 9,
   "metadata": {},
   "outputs": [
    {
     "output_type": "stream",
     "name": "stdout",
     "text": [
      "Epoch 1/15\n",
      "391/391 [==============================] - 9s 24ms/step - loss: 1.7810 - accuracy: 0.3654\n",
      "Epoch 2/15\n",
      "391/391 [==============================] - 9s 24ms/step - loss: 1.5972 - accuracy: 0.4320\n",
      "Epoch 3/15\n",
      "391/391 [==============================] - 10s 24ms/step - loss: 1.5050 - accuracy: 0.4661\n",
      "Epoch 4/15\n",
      "391/391 [==============================] - 10s 25ms/step - loss: 1.4505 - accuracy: 0.4833\n",
      "Epoch 5/15\n",
      "391/391 [==============================] - 10s 25ms/step - loss: 1.4124 - accuracy: 0.4979\n",
      "Epoch 6/15\n",
      "391/391 [==============================] - 10s 25ms/step - loss: 1.3733 - accuracy: 0.5122\n",
      "Epoch 7/15\n",
      "391/391 [==============================] - 10s 25ms/step - loss: 1.3476 - accuracy: 0.5209\n",
      "Epoch 8/15\n",
      "391/391 [==============================] - 10s 25ms/step - loss: 1.3231 - accuracy: 0.5301\n",
      "Epoch 9/15\n",
      "391/391 [==============================] - 10s 26ms/step - loss: 1.2972 - accuracy: 0.5396\n",
      "Epoch 10/15\n",
      "391/391 [==============================] - 10s 25ms/step - loss: 1.2787 - accuracy: 0.5451\n",
      "Epoch 11/15\n",
      "391/391 [==============================] - 10s 25ms/step - loss: 1.2600 - accuracy: 0.5513\n",
      "Epoch 12/15\n",
      "391/391 [==============================] - 10s 26ms/step - loss: 1.2439 - accuracy: 0.5561\n",
      "Epoch 13/15\n",
      "391/391 [==============================] - 10s 26ms/step - loss: 1.2215 - accuracy: 0.5640\n",
      "Epoch 14/15\n",
      "391/391 [==============================] - 11s 27ms/step - loss: 1.2087 - accuracy: 0.5705\n",
      "Epoch 15/15\n",
      "391/391 [==============================] - 11s 27ms/step - loss: 1.1912 - accuracy: 0.5751\n"
     ]
    },
    {
     "output_type": "execute_result",
     "data": {
      "text/plain": [
       "<tensorflow.python.keras.callbacks.History at 0x20feed4e130>"
      ]
     },
     "metadata": {},
     "execution_count": 9
    }
   ],
   "source": [
    "model.compile(loss=\"categorical_crossentropy\", optimizer=optimizer , metrics=[\"accuracy\"])\n",
    "model.fit(x_train, y_train, batch_size=batch_size, epochs=epochs, validation_split=0.0)"
   ]
  },
  {
   "cell_type": "markdown",
   "metadata": {},
   "source": [
    "Checking the accuracy of the model."
   ]
  },
  {
   "cell_type": "code",
   "execution_count": 10,
   "metadata": {},
   "outputs": [
    {
     "output_type": "stream",
     "name": "stdout",
     "text": [
      "Test loss: 1.4888896942138672\nTest accuracy: 0.48420000076293945\n"
     ]
    }
   ],
   "source": [
    "score = model.evaluate(x_test, y_test, verbose=0)\n",
    "print(\"Test loss:\", score[0])\n",
    "print(\"Test accuracy:\", score[1])"
   ]
  }
 ],
 "metadata": {
  "language_info": {
   "codemirror_mode": {
    "name": "ipython",
    "version": 3
   },
   "file_extension": ".py",
   "mimetype": "text/x-python",
   "name": "python",
   "nbconvert_exporter": "python",
   "pygments_lexer": "ipython3",
   "version": "3.8.2-final"
  },
  "orig_nbformat": 2,
  "kernelspec": {
   "name": "python38264bite5dc68241b3e4559aae846c0e3ff9206",
   "display_name": "Python 3.8.2 64-bit",
   "language": "python"
  }
 },
 "nbformat": 4,
 "nbformat_minor": 2
}